{
 "cells": [
  {
   "cell_type": "code",
   "execution_count": 3,
   "id": "b14cfc5a-8a98-4b00-8894-8a9fbe1c41bd",
   "metadata": {},
   "outputs": [],
   "source": [
    "import numpy as np\n",
    "from astropy.io import fits\n",
    "import os\n",
    "import glob as glob\n",
    "import pandas as pd\n",
    "import dawis as d\n",
    "import matplotlib.pyplot as plt\n",
    "from matplotlib import colors, colorbar\n",
    "from matplotlib.gridspec import GridSpec\n",
    "from matplotlib.lines import Line2D\n",
    "import matplotlib.image as mpimg\n",
    "from astropy.visualization import *\n",
    "from astropy.wcs import WCS\n",
    "from astropy.visualization import make_lupton_rgb\n",
    "from mpl_toolkits.axes_grid1 import make_axes_locatable\n",
    "from matplotlib.offsetbox import AnchoredText\n",
    "from scipy.ndimage import gaussian_filter\n",
    "from scipy.ndimage import zoom\n",
    "import pyregion as pyr\n",
    "import cmasher\n",
    "import matplotlib as mpl\n",
    "import pyregion as pyr"
   ]
  },
  {
   "cell_type": "code",
   "execution_count": 7,
   "id": "6c1bc401-d78a-4b5e-b28f-b5bc3b602bd6",
   "metadata": {},
   "outputs": [],
   "source": [
    "# Paths, lists & variables\n",
    "path_data = '/home/aellien/JWST/data/'\n",
    "path_scripts = '/home/aellien/JWST/JWST_scripts'\n",
    "path_wavelets = '/home/aellien/JWST/wavelets/out21/'\n",
    "path_plots = '/home/aellien/JWST/plots'\n",
    "path_analysis = '/home/ellien/JWST/analysis'"
   ]
  },
  {
   "cell_type": "code",
   "execution_count": 19,
   "id": "b0bc07f2-7c80-4bda-83ec-a71fcdb5e85c",
   "metadata": {},
   "outputs": [],
   "source": [
    "# concat dataframes\n",
    "init = True\n",
    "for nf in glob.glob( os.path.join(path_wavelets, '*fICL.txt')):\n",
    "    if init:\n",
    "        tot_df = pd.read_csv(nf, sep = ' ')\n",
    "        init = False\n",
    "    else:\n",
    "        df = pd.read_csv(nf, sep = ' ')\n",
    "        tot_df = pd.concat([ tot_df, df], axis = 0)\n",
    "    "
   ]
  },
  {
   "cell_type": "code",
   "execution_count": 22,
   "id": "725f68e8-1c9e-4e31-b49f-230736b3da88",
   "metadata": {},
   "outputs": [
    {
     "data": {
      "text/plain": [
       "Index(['Unnamed: 0', 'name', 'lvl_sep', 'size_sep', 'F_ICLBCG_m',\n",
       "       'F_ICLBCG_low', 'F_ICLBCG_up', 'F_gal_m', 'F_gal_low', 'F_gal_up',\n",
       "       'f_ICLBCG_m', 'f_ICLBCG_low', 'f_ICLBCG_up', '0.0_icl_m',\n",
       "       '0.3333333333333333_icl_low', '0.6666666666666666_icl_up', '1.0_icl_m',\n",
       "       '1.3333333333333333_icl_low', '1.6666666666666667_icl_up', '2.0_icl_m',\n",
       "       '2.3333333333333335_icl_low', '2.6666666666666665_icl_up', '3.0_icl_m',\n",
       "       '3.3333333333333335_icl_low', '3.6666666666666665_icl_up',\n",
       "       'F_128kpc_gal_m', 'F_128kpc_gal_low', 'F_128kpc_gal_up',\n",
       "       'F_200kpc_gal_m', 'F_200kpc_gal_low', 'F_200kpc_gal_up',\n",
       "       'F_400kpc_gal_m', 'F_400kpc_gal_low', 'F_400kpc_gal_up',\n",
       "       'F_50_150kpc_gal_m', 'F_50_150kpc_gal_low', 'F_50_150kpc_gal_up'],\n",
       "      dtype='object')"
      ]
     },
     "execution_count": 22,
     "metadata": {},
     "output_type": "execute_result"
    }
   ],
   "source": [
    "tot_df.keys()"
   ]
  },
  {
   "cell_type": "code",
   "execution_count": null,
   "id": "a6e1d028-76e8-47d9-aa4f-fa3ab2521512",
   "metadata": {},
   "outputs": [],
   "source": []
  }
 ],
 "metadata": {
  "kernelspec": {
   "display_name": "Python 3 (ipykernel)",
   "language": "python",
   "name": "python3"
  },
  "language_info": {
   "codemirror_mode": {
    "name": "ipython",
    "version": 3
   },
   "file_extension": ".py",
   "mimetype": "text/x-python",
   "name": "python",
   "nbconvert_exporter": "python",
   "pygments_lexer": "ipython3",
   "version": "3.11.6"
  }
 },
 "nbformat": 4,
 "nbformat_minor": 5
}
